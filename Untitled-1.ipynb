{
 "cells": [
  {
   "cell_type": "code",
   "execution_count": 3,
   "metadata": {},
   "outputs": [],
   "source": [
    "import pandas as pd\n",
    "import spacy\n",
    "from spacy.lang.en.stop_words import STOP_WORDS\n",
    "import string\n",
    "\n",
    "# Load spaCy's English NLP model\n",
    "nlp = spacy.load(\"en_core_web_sm\")\n",
    "\n",
    "# Load your dataset\n",
    "df = pd.read_csv('dataset.csv')  # Replace with your dataset file path\n",
    "\n",
    "# Preprocessing function\n",
    "def preprocess_text(text):\n",
    "    doc = nlp(text)\n",
    "    tokens = [token.lemma_ for token in doc if token.text not in STOP_WORDS and token.text not in string.punctuation]\n",
    "    return \" \".join(tokens)\n",
    "\n",
    "# Apply preprocessing to the dataset\n",
    "df['processed_text'] = df['Title'].apply(preprocess_text)  # Assuming 'abstract' is a column in your dataset"
   ]
  },
  {
   "cell_type": "code",
   "execution_count": 5,
   "metadata": {},
   "outputs": [],
   "source": [
    "def extract_medical_terms(text):\n",
    "    doc = nlp(text)\n",
    "    medical_terms = [(ent.text, ent.label_) for ent in doc.ents if ent.label_ in ['diabetes', 'hypertension', 'fever']]\n",
    "    return medical_terms\n",
    "\n",
    "# Example of extracting terms from processed text\n",
    "df['medical_terms'] = df['processed_text'].apply(extract_medical_terms)"
   ]
  },
  {
   "cell_type": "code",
   "execution_count": 6,
   "metadata": {},
   "outputs": [
    {
     "name": "stdout",
     "output_type": "stream",
     "text": [
      "Generated Boolean Query: diabetes AND hypertension AND fever\n"
     ]
    }
   ],
   "source": [
    "def generate_boolean_query(user_input):\n",
    "    terms = user_input.split(',')\n",
    "    boolean_query = \" AND \".join([term.strip() for term in terms])\n",
    "    return boolean_query\n",
    "\n",
    "# Example usage\n",
    "user_input = \"diabetes, hypertension, fever\"\n",
    "boolean_query = generate_boolean_query(user_input)\n",
    "print(\"Generated Boolean Query:\", boolean_query)"
   ]
  },
  {
   "cell_type": "code",
   "execution_count": 7,
   "metadata": {},
   "outputs": [
    {
     "name": "stdout",
     "output_type": "stream",
     "text": [
      "Refined Query: diabetes OR hypertension OR fever\n"
     ]
    }
   ],
   "source": [
    "def refine_query(original_query):\n",
    "    # Placeholder for query refinement logic (e.g., expansion or rewriting)\n",
    "    refined_query = original_query.replace(\"AND\", \"OR\")  # Example transformation\n",
    "    return refined_query\n",
    "\n",
    "refined_query = refine_query(boolean_query)\n",
    "print(\"Refined Query:\", refined_query)"
   ]
  },
  {
   "cell_type": "code",
   "execution_count": null,
   "metadata": {},
   "outputs": [],
   "source": []
  }
 ],
 "metadata": {
  "kernelspec": {
   "display_name": "Python 3",
   "language": "python",
   "name": "python3"
  },
  "language_info": {
   "codemirror_mode": {
    "name": "ipython",
    "version": 3
   },
   "file_extension": ".py",
   "mimetype": "text/x-python",
   "name": "python",
   "nbconvert_exporter": "python",
   "pygments_lexer": "ipython3",
   "version": "3.9.0"
  }
 },
 "nbformat": 4,
 "nbformat_minor": 2
}
